{
 "cells": [
  {
   "cell_type": "markdown",
   "metadata": {},
   "source": [
    "# Project: Investigate a soccer dataset extracted from *Kaggle* \n",
    "\n",
    "## Table of Contents\n",
    "<ul>\n",
    "<li><a href=\"#intro\">Introduction</a></li>\n",
    "<li><a href=\"#wrangling\">Data Wrangling</a></li>\n",
    "<li><a href=\"#eda\">Exploratory Data Analysis</a></li>\n",
    "<li><a href=\"#conclusion_Q1\">Conclusion Q1</a></li>\n",
    "<li><a href=\"#conclusion_Q2\">Conclusion Q2</a></li>\n",
    "</ul>"
   ]
  },
  {
   "cell_type": "markdown",
   "metadata": {},
   "source": [
    "<a id='intro'></a>\n",
    "## Introduction\n",
    "\n",
    "> Soccer dataset extracted from Kaggle [web site](https://www.kaggle.com/hugomathien/soccer), The database is stored in a SQLite database with 8 tables that contains players and teams attributes sourced from EA Sports and different sites, +25,000 matches, +10,000 players, 11 European Countries with their lead championship, Seasons 2008 to 2016\n",
    "        \n",
    "- Some players are missing from the lineup (NULL values). This is because no source to their attributes from FIFA.\n",
    "- After quick review using sqlite, i had been interested in players attributes.\n",
    "- SQL were used to extract data i need and save it to csv file formate.\n",
    "\n",
    "\n",
    "### Questions :\n",
    "1- Considering players improvement during their career, what is the most potential age range that they could improve the most?\n",
    "\n",
    "2- What is the most important attribute that must be exist in the attackers overall rating among the famous skills like dribbling, sprint speed, vision, heading accuracy and shot power ?\n"
   ]
  },
  {
   "cell_type": "code",
   "execution_count": 1,
   "metadata": {},
   "outputs": [],
   "source": [
    "# Seting up import statements for all of the packages that we plan to use.\n",
    "\n",
    "import numpy as np\n",
    "import pandas as pd\n",
    "import matplotlib.pyplot as plt\n",
    "% matplotlib inline\n"
   ]
  },
  {
   "cell_type": "markdown",
   "metadata": {},
   "source": [
    "<a id='wrangling'></a>\n",
    "## Data Wrangling\n",
    "\n",
    "_In this section of the report, loading the data, checking for cleanliness, and then trimming and cleaning the dataset for analysis._ \n",
    "\n",
    "### General Properties"
   ]
  },
  {
   "cell_type": "code",
   "execution_count": 2,
   "metadata": {},
   "outputs": [
    {
     "name": "stdout",
     "output_type": "stream",
     "text": [
      "Index(['id', 'player_fifa_api_id', 'player_api_id', 'date', 'overall_rating',\n",
      "       'potential', 'preferred_foot', 'attacking_work_rate',\n",
      "       'defensive_work_rate', 'crossing', 'finishing', 'heading_accuracy',\n",
      "       'short_passing', 'volleys', 'dribbling', 'curve', 'free_kick_accuracy',\n",
      "       'long_passing', 'ball_control', 'acceleration', 'sprint_speed',\n",
      "       'agility', 'reactions', 'balance', 'shot_power', 'jumping', 'stamina',\n",
      "       'strength', 'long_shots', 'aggression', 'interceptions', 'positioning',\n",
      "       'vision', 'penalties', 'marking', 'standing_tackle', 'sliding_tackle',\n",
      "       'gk_diving', 'gk_handling', 'gk_kicking', 'gk_positioning',\n",
      "       'gk_reflexes', 'id.1', 'player_api_id.1', 'player_name',\n",
      "       'player_fifa_api_id.1', 'birthday', 'height', 'weight'],\n",
      "      dtype='object')\n"
     ]
    },
    {
     "data": {
      "text/html": [
       "<div>\n",
       "<style>\n",
       "    .dataframe thead tr:only-child th {\n",
       "        text-align: right;\n",
       "    }\n",
       "\n",
       "    .dataframe thead th {\n",
       "        text-align: left;\n",
       "    }\n",
       "\n",
       "    .dataframe tbody tr th {\n",
       "        vertical-align: top;\n",
       "    }\n",
       "</style>\n",
       "<table border=\"1\" class=\"dataframe\">\n",
       "  <thead>\n",
       "    <tr style=\"text-align: right;\">\n",
       "      <th></th>\n",
       "      <th>id</th>\n",
       "      <th>player_fifa_api_id</th>\n",
       "      <th>player_api_id</th>\n",
       "      <th>date</th>\n",
       "      <th>overall_rating</th>\n",
       "      <th>potential</th>\n",
       "      <th>preferred_foot</th>\n",
       "      <th>attacking_work_rate</th>\n",
       "      <th>defensive_work_rate</th>\n",
       "      <th>crossing</th>\n",
       "      <th>...</th>\n",
       "      <th>gk_kicking</th>\n",
       "      <th>gk_positioning</th>\n",
       "      <th>gk_reflexes</th>\n",
       "      <th>id.1</th>\n",
       "      <th>player_api_id.1</th>\n",
       "      <th>player_name</th>\n",
       "      <th>player_fifa_api_id.1</th>\n",
       "      <th>birthday</th>\n",
       "      <th>height</th>\n",
       "      <th>weight</th>\n",
       "    </tr>\n",
       "  </thead>\n",
       "  <tbody>\n",
       "    <tr>\n",
       "      <th>0</th>\n",
       "      <td>1</td>\n",
       "      <td>218353</td>\n",
       "      <td>505942</td>\n",
       "      <td>2016-02-18 00:00:00</td>\n",
       "      <td>67.0</td>\n",
       "      <td>71.0</td>\n",
       "      <td>right</td>\n",
       "      <td>medium</td>\n",
       "      <td>medium</td>\n",
       "      <td>49.0</td>\n",
       "      <td>...</td>\n",
       "      <td>10.0</td>\n",
       "      <td>8.0</td>\n",
       "      <td>8.0</td>\n",
       "      <td>1</td>\n",
       "      <td>505942</td>\n",
       "      <td>Aaron Appindangoye</td>\n",
       "      <td>218353</td>\n",
       "      <td>1992-02-29 00:00:00</td>\n",
       "      <td>182.88</td>\n",
       "      <td>187</td>\n",
       "    </tr>\n",
       "    <tr>\n",
       "      <th>1</th>\n",
       "      <td>2</td>\n",
       "      <td>218353</td>\n",
       "      <td>505942</td>\n",
       "      <td>2015-11-19 00:00:00</td>\n",
       "      <td>67.0</td>\n",
       "      <td>71.0</td>\n",
       "      <td>right</td>\n",
       "      <td>medium</td>\n",
       "      <td>medium</td>\n",
       "      <td>49.0</td>\n",
       "      <td>...</td>\n",
       "      <td>10.0</td>\n",
       "      <td>8.0</td>\n",
       "      <td>8.0</td>\n",
       "      <td>1</td>\n",
       "      <td>505942</td>\n",
       "      <td>Aaron Appindangoye</td>\n",
       "      <td>218353</td>\n",
       "      <td>1992-02-29 00:00:00</td>\n",
       "      <td>182.88</td>\n",
       "      <td>187</td>\n",
       "    </tr>\n",
       "    <tr>\n",
       "      <th>2</th>\n",
       "      <td>3</td>\n",
       "      <td>218353</td>\n",
       "      <td>505942</td>\n",
       "      <td>2015-09-21 00:00:00</td>\n",
       "      <td>62.0</td>\n",
       "      <td>66.0</td>\n",
       "      <td>right</td>\n",
       "      <td>medium</td>\n",
       "      <td>medium</td>\n",
       "      <td>49.0</td>\n",
       "      <td>...</td>\n",
       "      <td>10.0</td>\n",
       "      <td>8.0</td>\n",
       "      <td>8.0</td>\n",
       "      <td>1</td>\n",
       "      <td>505942</td>\n",
       "      <td>Aaron Appindangoye</td>\n",
       "      <td>218353</td>\n",
       "      <td>1992-02-29 00:00:00</td>\n",
       "      <td>182.88</td>\n",
       "      <td>187</td>\n",
       "    </tr>\n",
       "  </tbody>\n",
       "</table>\n",
       "<p>3 rows × 49 columns</p>\n",
       "</div>"
      ],
      "text/plain": [
       "   id  player_fifa_api_id  player_api_id                 date  overall_rating  \\\n",
       "0   1              218353         505942  2016-02-18 00:00:00            67.0   \n",
       "1   2              218353         505942  2015-11-19 00:00:00            67.0   \n",
       "2   3              218353         505942  2015-09-21 00:00:00            62.0   \n",
       "\n",
       "   potential preferred_foot attacking_work_rate defensive_work_rate  crossing  \\\n",
       "0       71.0          right              medium              medium      49.0   \n",
       "1       71.0          right              medium              medium      49.0   \n",
       "2       66.0          right              medium              medium      49.0   \n",
       "\n",
       "    ...    gk_kicking  gk_positioning  gk_reflexes  id.1  player_api_id.1  \\\n",
       "0   ...          10.0             8.0          8.0     1           505942   \n",
       "1   ...          10.0             8.0          8.0     1           505942   \n",
       "2   ...          10.0             8.0          8.0     1           505942   \n",
       "\n",
       "          player_name  player_fifa_api_id.1             birthday  height  \\\n",
       "0  Aaron Appindangoye                218353  1992-02-29 00:00:00  182.88   \n",
       "1  Aaron Appindangoye                218353  1992-02-29 00:00:00  182.88   \n",
       "2  Aaron Appindangoye                218353  1992-02-29 00:00:00  182.88   \n",
       "\n",
       "   weight  \n",
       "0     187  \n",
       "1     187  \n",
       "2     187  \n",
       "\n",
       "[3 rows x 49 columns]"
      ]
     },
     "execution_count": 2,
     "metadata": {},
     "output_type": "execute_result"
    }
   ],
   "source": [
    "# using sqlite to extract Player and Player_Attributes in 1 table, joining them with player_fifa_api_id\n",
    "# saving the data to Soccer_players.csv\n",
    "\n",
    "# reading the uploaded csv file\n",
    "df = pd.read_csv('Soccer_players.csv')\n",
    "\n",
    "print(df.columns) # print all coulmns names\n",
    "\n",
    "df.head(3) # display headers"
   ]
  },
  {
   "cell_type": "code",
   "execution_count": 3,
   "metadata": {},
   "outputs": [
    {
     "data": {
      "text/html": [
       "<div>\n",
       "<style>\n",
       "    .dataframe thead tr:only-child th {\n",
       "        text-align: right;\n",
       "    }\n",
       "\n",
       "    .dataframe thead th {\n",
       "        text-align: left;\n",
       "    }\n",
       "\n",
       "    .dataframe tbody tr th {\n",
       "        vertical-align: top;\n",
       "    }\n",
       "</style>\n",
       "<table border=\"1\" class=\"dataframe\">\n",
       "  <thead>\n",
       "    <tr style=\"text-align: right;\">\n",
       "      <th></th>\n",
       "      <th>player_fifa_api_id</th>\n",
       "      <th>date</th>\n",
       "      <th>overall_rating</th>\n",
       "      <th>attacking_work_rate</th>\n",
       "      <th>heading_accuracy</th>\n",
       "      <th>dribbling</th>\n",
       "      <th>sprint_speed</th>\n",
       "      <th>shot_power</th>\n",
       "      <th>vision</th>\n",
       "      <th>birthday</th>\n",
       "    </tr>\n",
       "  </thead>\n",
       "  <tbody>\n",
       "    <tr>\n",
       "      <th>0</th>\n",
       "      <td>218353</td>\n",
       "      <td>2016-02-18 00:00:00</td>\n",
       "      <td>67.0</td>\n",
       "      <td>medium</td>\n",
       "      <td>71.0</td>\n",
       "      <td>51.0</td>\n",
       "      <td>64.0</td>\n",
       "      <td>55.0</td>\n",
       "      <td>54.0</td>\n",
       "      <td>1992-02-29 00:00:00</td>\n",
       "    </tr>\n",
       "    <tr>\n",
       "      <th>1</th>\n",
       "      <td>218353</td>\n",
       "      <td>2015-11-19 00:00:00</td>\n",
       "      <td>67.0</td>\n",
       "      <td>medium</td>\n",
       "      <td>71.0</td>\n",
       "      <td>51.0</td>\n",
       "      <td>64.0</td>\n",
       "      <td>55.0</td>\n",
       "      <td>54.0</td>\n",
       "      <td>1992-02-29 00:00:00</td>\n",
       "    </tr>\n",
       "    <tr>\n",
       "      <th>2</th>\n",
       "      <td>218353</td>\n",
       "      <td>2015-09-21 00:00:00</td>\n",
       "      <td>62.0</td>\n",
       "      <td>medium</td>\n",
       "      <td>71.0</td>\n",
       "      <td>51.0</td>\n",
       "      <td>64.0</td>\n",
       "      <td>55.0</td>\n",
       "      <td>54.0</td>\n",
       "      <td>1992-02-29 00:00:00</td>\n",
       "    </tr>\n",
       "  </tbody>\n",
       "</table>\n",
       "</div>"
      ],
      "text/plain": [
       "   player_fifa_api_id                 date  overall_rating  \\\n",
       "0              218353  2016-02-18 00:00:00            67.0   \n",
       "1              218353  2015-11-19 00:00:00            67.0   \n",
       "2              218353  2015-09-21 00:00:00            62.0   \n",
       "\n",
       "  attacking_work_rate  heading_accuracy  dribbling  sprint_speed  shot_power  \\\n",
       "0              medium              71.0       51.0          64.0        55.0   \n",
       "1              medium              71.0       51.0          64.0        55.0   \n",
       "2              medium              71.0       51.0          64.0        55.0   \n",
       "\n",
       "   vision             birthday  \n",
       "0    54.0  1992-02-29 00:00:00  \n",
       "1    54.0  1992-02-29 00:00:00  \n",
       "2    54.0  1992-02-29 00:00:00  "
      ]
     },
     "execution_count": 3,
     "metadata": {},
     "output_type": "execute_result"
    }
   ],
   "source": [
    "# since the data are extensive, i need to drop un-needed columns, as i will focus on attackers\n",
    "# then start to look closely to the datafram\n",
    "\n",
    "# drop all cloumns except what i need (foucs on attacker's attributes)\n",
    "# using df.index.difference but for column instead of index to return other columns name that were not givin\n",
    "df.drop(df.columns.difference(['player_fifa_api_id','date', 'overall_rating', 'attacking_work_rate',\n",
    "                              'heading_accuracy', 'dribbling', 'shot_power', 'sprint_speed',\n",
    "                              'vision', 'birthday']), axis=1, inplace = True)\n",
    "# re-display the header\n",
    "df.head(3)\n"
   ]
  },
  {
   "cell_type": "code",
   "execution_count": 4,
   "metadata": {},
   "outputs": [
    {
     "name": "stdout",
     "output_type": "stream",
     "text": [
      "unique values are:  ['medium' 'high' nan 'low' 'None' 'le' 'norm' 'stoc' 'y']\n"
     ]
    }
   ],
   "source": [
    "# confirm the unique data of attacking_work_rate\n",
    "# to select the unique value of attackers\n",
    "print('unique values are: ', df.attacking_work_rate.unique())"
   ]
  },
  {
   "cell_type": "code",
   "execution_count": 5,
   "metadata": {},
   "outputs": [
    {
     "name": "stdout",
     "output_type": "stream",
     "text": [
      "count of high attacking rate evaluations:  42823\n"
     ]
    }
   ],
   "source": [
    "# confrim how many rows assigned for high attacking rate\n",
    "print('count of high attacking rate evaluations: ', df.attacking_work_rate.value_counts().high)\n",
    "\n",
    "# extract attackers dataframe using query of high attacking rate\n",
    "# assign query result to attacker_df\n",
    "attacker_df = df.query('attacking_work_rate == \"high\"')"
   ]
  },
  {
   "cell_type": "code",
   "execution_count": 6,
   "metadata": {},
   "outputs": [
    {
     "name": "stdout",
     "output_type": "stream",
     "text": [
      "(42823, 10) 91\n"
     ]
    },
    {
     "data": {
      "text/plain": [
       "player_fifa_api_id     0\n",
       "date                   0\n",
       "overall_rating         0\n",
       "attacking_work_rate    0\n",
       "heading_accuracy       0\n",
       "dribbling              0\n",
       "sprint_speed           0\n",
       "shot_power             0\n",
       "vision                 0\n",
       "birthday               0\n",
       "dtype: int64"
      ]
     },
     "execution_count": 6,
     "metadata": {},
     "output_type": "execute_result"
    }
   ],
   "source": [
    "# check for nulls values and duplicates in attacker_df\n",
    "print(attacker_df.shape, df.duplicated().sum())\n",
    "\n",
    "attacker_df.isnull().sum() # print total nulls in each column"
   ]
  },
  {
   "cell_type": "code",
   "execution_count": 7,
   "metadata": {},
   "outputs": [
    {
     "data": {
      "text/plain": [
       "player_fifa_api_id       int64\n",
       "date                    object\n",
       "overall_rating         float64\n",
       "attacking_work_rate     object\n",
       "heading_accuracy       float64\n",
       "dribbling              float64\n",
       "sprint_speed           float64\n",
       "shot_power             float64\n",
       "vision                 float64\n",
       "birthday                object\n",
       "dtype: object"
      ]
     },
     "execution_count": 7,
     "metadata": {},
     "output_type": "execute_result"
    }
   ],
   "source": [
    "# check for data types to select which column we need to convert its format\n",
    "attacker_df.dtypes"
   ]
  },
  {
   "cell_type": "markdown",
   "metadata": {},
   "source": [
    "### Data Cleaning\n",
    "\n",
    "Cleaning steps :\n",
    "- 91 duplicated row were found and it will not affect the datafram if dropped.\n",
    "- drop attacking_work_rate column from attacker_df as its single unique value.\n",
    "- rename evaluation date column & player_fifa_api_id columns to eval_date & id.\n",
    "- convert evaluation date column and birthday column to datetime formate.\n",
    "- keep only ids with evalouations more than 10."
   ]
  },
  {
   "cell_type": "code",
   "execution_count": 12,
   "metadata": {},
   "outputs": [],
   "source": [
    "# make a copy of attacker datafram to apply all the cleaning\n",
    "# to avoid any pandas warnings regading changing original data\n",
    "eval_df = attacker_df.copy()\n",
    "\n",
    "# since no null values, i will drop duplicats (91) that will not affect my analysis\n",
    "eval_df.drop_duplicates(inplace = True)\n",
    "\n",
    "# drop attacking_work_rate column as we no longer need it\n",
    "eval_df.drop(['attacking_work_rate'],axis =1 , inplace=True)\n",
    "\n",
    "# rename evaluation date & player_fifa_api_id columns\n",
    "# 'date' does not describe its purpose and 'player_fifa_api_id' is too long \n",
    "eval_df.rename(columns={'date': 'eval_date', 'player_fifa_api_id' :'id'}, inplace=True)"
   ]
  },
  {
   "cell_type": "code",
   "execution_count": 13,
   "metadata": {},
   "outputs": [
    {
     "data": {
      "text/html": [
       "<div>\n",
       "<style>\n",
       "    .dataframe thead tr:only-child th {\n",
       "        text-align: right;\n",
       "    }\n",
       "\n",
       "    .dataframe thead th {\n",
       "        text-align: left;\n",
       "    }\n",
       "\n",
       "    .dataframe tbody tr th {\n",
       "        vertical-align: top;\n",
       "    }\n",
       "</style>\n",
       "<table border=\"1\" class=\"dataframe\">\n",
       "  <thead>\n",
       "    <tr style=\"text-align: right;\">\n",
       "      <th></th>\n",
       "      <th>id</th>\n",
       "      <th>eval_date</th>\n",
       "      <th>overall_rating</th>\n",
       "      <th>heading_accuracy</th>\n",
       "      <th>dribbling</th>\n",
       "      <th>sprint_speed</th>\n",
       "      <th>shot_power</th>\n",
       "      <th>vision</th>\n",
       "      <th>birthday</th>\n",
       "      <th>birth_year</th>\n",
       "    </tr>\n",
       "  </thead>\n",
       "  <tbody>\n",
       "    <tr>\n",
       "      <th>5</th>\n",
       "      <td>189615</td>\n",
       "      <td>2016-04-21</td>\n",
       "      <td>74.0</td>\n",
       "      <td>58.0</td>\n",
       "      <td>73.0</td>\n",
       "      <td>78.0</td>\n",
       "      <td>71.0</td>\n",
       "      <td>66.0</td>\n",
       "      <td>1989-12-15</td>\n",
       "      <td>1989</td>\n",
       "    </tr>\n",
       "    <tr>\n",
       "      <th>6</th>\n",
       "      <td>189615</td>\n",
       "      <td>2016-04-07</td>\n",
       "      <td>74.0</td>\n",
       "      <td>58.0</td>\n",
       "      <td>73.0</td>\n",
       "      <td>78.0</td>\n",
       "      <td>71.0</td>\n",
       "      <td>66.0</td>\n",
       "      <td>1989-12-15</td>\n",
       "      <td>1989</td>\n",
       "    </tr>\n",
       "    <tr>\n",
       "      <th>7</th>\n",
       "      <td>189615</td>\n",
       "      <td>2016-01-07</td>\n",
       "      <td>73.0</td>\n",
       "      <td>57.0</td>\n",
       "      <td>71.0</td>\n",
       "      <td>78.0</td>\n",
       "      <td>71.0</td>\n",
       "      <td>65.0</td>\n",
       "      <td>1989-12-15</td>\n",
       "      <td>1989</td>\n",
       "    </tr>\n",
       "  </tbody>\n",
       "</table>\n",
       "</div>"
      ],
      "text/plain": [
       "       id  eval_date  overall_rating  heading_accuracy  dribbling  \\\n",
       "5  189615 2016-04-21            74.0              58.0       73.0   \n",
       "6  189615 2016-04-07            74.0              58.0       73.0   \n",
       "7  189615 2016-01-07            73.0              57.0       71.0   \n",
       "\n",
       "   sprint_speed  shot_power  vision   birthday  birth_year  \n",
       "5          78.0        71.0    66.0 1989-12-15        1989  \n",
       "6          78.0        71.0    66.0 1989-12-15        1989  \n",
       "7          78.0        71.0    65.0 1989-12-15        1989  "
      ]
     },
     "execution_count": 13,
     "metadata": {},
     "output_type": "execute_result"
    }
   ],
   "source": [
    "# convert date col in datetime format\n",
    "eval_df.eval_date = pd.to_datetime(eval_df.eval_date)\n",
    "\n",
    "# convert birthday col in datetime format\n",
    "eval_df.birthday = pd.to_datetime(eval_df.birthday)\n",
    "\n",
    "# extract the birth year from birthday column using Series.dt.year\n",
    "eval_df['birth_year'] = pd.to_datetime(eval_df.birthday).dt.year\n",
    "\n",
    "eval_df.head(3) # display data frame"
   ]
  },
  {
   "cell_type": "code",
   "execution_count": 14,
   "metadata": {},
   "outputs": [
    {
     "data": {
      "text/plain": [
       "id                           int64\n",
       "eval_date           datetime64[ns]\n",
       "overall_rating             float64\n",
       "heading_accuracy           float64\n",
       "dribbling                  float64\n",
       "sprint_speed               float64\n",
       "shot_power                 float64\n",
       "vision                     float64\n",
       "birthday            datetime64[ns]\n",
       "birth_year                   int64\n",
       "dtype: object"
      ]
     },
     "execution_count": 14,
     "metadata": {},
     "output_type": "execute_result"
    }
   ],
   "source": [
    "eval_df.dtypes # recheck data types\n"
   ]
  },
  {
   "cell_type": "code",
   "execution_count": 15,
   "metadata": {},
   "outputs": [
    {
     "name": "stdout",
     "output_type": "stream",
     "text": [
      "average evaluation count after trimming : 19.3007990868\n"
     ]
    }
   ],
   "source": [
    "# using groupby to group the dataframe by id\n",
    "# using transform to calucate length of each id (how many evaluations)\n",
    "# assign the grouped and selected id that has more than 10 evaluation to cleaned_df\n",
    "\n",
    "cleaned_df = eval_df[eval_df.groupby('id').id.transform(len) > 10]\n",
    "\n",
    "print('average evaluation count after trimming :', cleaned_df.id.value_counts().mean())\n"
   ]
  },
  {
   "cell_type": "markdown",
   "metadata": {},
   "source": [
    "<a id='eda'></a>\n",
    "## Exploratory Data Analysis\n",
    "\n",
    "> Data now is trimmed and cleaned and ready to move on to exploration. \n",
    "\n",
    "### Research Question 1 :\n",
    "\n",
    "**What is the most potential age range that they could improve the most?**\n",
    "\n",
    "- create age at evaluation column that calculate player's age at each date of their evaluation.\n",
    "- set range of age as follow (under_23 , between 23_28, above_28) .\n",
    "- create ranking column that contains players rating according to their overall rating during the evaluation period.\n",
    "- set ranking as performance (best , better than normal, normal)\n",
    "- visualize bars chart and single chart that represent ranking of players at each range of age and overall rating.\n",
    "\n",
    "For the range of age and ranking rate, i will use 'pandas cutting' for once and use 'for loop' as alternative method to avoid repetitive code."
   ]
  },
  {
   "cell_type": "code",
   "execution_count": 16,
   "metadata": {},
   "outputs": [
    {
     "data": {
      "text/html": [
       "<div>\n",
       "<style>\n",
       "    .dataframe thead tr:only-child th {\n",
       "        text-align: right;\n",
       "    }\n",
       "\n",
       "    .dataframe thead th {\n",
       "        text-align: left;\n",
       "    }\n",
       "\n",
       "    .dataframe tbody tr th {\n",
       "        vertical-align: top;\n",
       "    }\n",
       "</style>\n",
       "<table border=\"1\" class=\"dataframe\">\n",
       "  <thead>\n",
       "    <tr style=\"text-align: right;\">\n",
       "      <th></th>\n",
       "      <th></th>\n",
       "      <th>overall_rating</th>\n",
       "      <th>eval_date</th>\n",
       "      <th>birthday</th>\n",
       "      <th>birth_year</th>\n",
       "    </tr>\n",
       "    <tr>\n",
       "      <th>id</th>\n",
       "      <th>eval_date</th>\n",
       "      <th></th>\n",
       "      <th></th>\n",
       "      <th></th>\n",
       "      <th></th>\n",
       "    </tr>\n",
       "  </thead>\n",
       "  <tbody>\n",
       "    <tr>\n",
       "      <th rowspan=\"5\" valign=\"top\">27</th>\n",
       "      <th>2007-02-22</th>\n",
       "      <td>87.0</td>\n",
       "      <td>2007-02-22</td>\n",
       "      <td>1981-11-08</td>\n",
       "      <td>1981</td>\n",
       "    </tr>\n",
       "    <tr>\n",
       "      <th>2007-08-30</th>\n",
       "      <td>86.0</td>\n",
       "      <td>2007-08-30</td>\n",
       "      <td>1981-11-08</td>\n",
       "      <td>1981</td>\n",
       "    </tr>\n",
       "    <tr>\n",
       "      <th>2008-08-30</th>\n",
       "      <td>84.0</td>\n",
       "      <td>2008-08-30</td>\n",
       "      <td>1981-11-08</td>\n",
       "      <td>1981</td>\n",
       "    </tr>\n",
       "    <tr>\n",
       "      <th>2009-02-22</th>\n",
       "      <td>83.0</td>\n",
       "      <td>2009-02-22</td>\n",
       "      <td>1981-11-08</td>\n",
       "      <td>1981</td>\n",
       "    </tr>\n",
       "    <tr>\n",
       "      <th>2009-08-30</th>\n",
       "      <td>83.0</td>\n",
       "      <td>2009-08-30</td>\n",
       "      <td>1981-11-08</td>\n",
       "      <td>1981</td>\n",
       "    </tr>\n",
       "  </tbody>\n",
       "</table>\n",
       "</div>"
      ],
      "text/plain": [
       "               overall_rating  eval_date   birthday  birth_year\n",
       "id eval_date                                                   \n",
       "27 2007-02-22            87.0 2007-02-22 1981-11-08        1981\n",
       "   2007-08-30            86.0 2007-08-30 1981-11-08        1981\n",
       "   2008-08-30            84.0 2008-08-30 1981-11-08        1981\n",
       "   2009-02-22            83.0 2009-02-22 1981-11-08        1981\n",
       "   2009-08-30            83.0 2009-08-30 1981-11-08        1981"
      ]
     },
     "execution_count": 16,
     "metadata": {},
     "output_type": "execute_result"
    }
   ],
   "source": [
    "# answering question1\n",
    "# group the players by id and evaluated dates\n",
    "q1_df = cleaned_df.groupby(['id', 'eval_date'])['overall_rating', 'eval_date','birthday', 'birth_year'].last()\n",
    "\n",
    "q1_df.head()"
   ]
  },
  {
   "cell_type": "code",
   "execution_count": 17,
   "metadata": {},
   "outputs": [
    {
     "data": {
      "text/html": [
       "<div>\n",
       "<style>\n",
       "    .dataframe thead tr:only-child th {\n",
       "        text-align: right;\n",
       "    }\n",
       "\n",
       "    .dataframe thead th {\n",
       "        text-align: left;\n",
       "    }\n",
       "\n",
       "    .dataframe tbody tr th {\n",
       "        vertical-align: top;\n",
       "    }\n",
       "</style>\n",
       "<table border=\"1\" class=\"dataframe\">\n",
       "  <thead>\n",
       "    <tr style=\"text-align: right;\">\n",
       "      <th></th>\n",
       "      <th></th>\n",
       "      <th>overall_rating</th>\n",
       "      <th>eval_date</th>\n",
       "      <th>birthday</th>\n",
       "      <th>birth_year</th>\n",
       "      <th>age_at_eval</th>\n",
       "    </tr>\n",
       "    <tr>\n",
       "      <th>id</th>\n",
       "      <th>eval_date</th>\n",
       "      <th></th>\n",
       "      <th></th>\n",
       "      <th></th>\n",
       "      <th></th>\n",
       "      <th></th>\n",
       "    </tr>\n",
       "  </thead>\n",
       "  <tbody>\n",
       "    <tr>\n",
       "      <th>27</th>\n",
       "      <th>2007-02-22</th>\n",
       "      <td>87.0</td>\n",
       "      <td>2007-02-22</td>\n",
       "      <td>1981-11-08</td>\n",
       "      <td>1981</td>\n",
       "      <td>9237 days</td>\n",
       "    </tr>\n",
       "  </tbody>\n",
       "</table>\n",
       "</div>"
      ],
      "text/plain": [
       "               overall_rating  eval_date   birthday  birth_year age_at_eval\n",
       "id eval_date                                                               \n",
       "27 2007-02-22            87.0 2007-02-22 1981-11-08        1981   9237 days"
      ]
     },
     "execution_count": 17,
     "metadata": {},
     "output_type": "execute_result"
    }
   ],
   "source": [
    "# create palyer age at each evaluation date\n",
    "# substracting date of evaluation from player's birthday\n",
    "q1_df['age_at_eval'] = q1_df.eval_date - q1_df.birthday\n",
    "\n",
    "q1_df.head(1) # display the new result"
   ]
  },
  {
   "cell_type": "code",
   "execution_count": 18,
   "metadata": {},
   "outputs": [
    {
     "data": {
      "text/html": [
       "<div>\n",
       "<style>\n",
       "    .dataframe thead tr:only-child th {\n",
       "        text-align: right;\n",
       "    }\n",
       "\n",
       "    .dataframe thead th {\n",
       "        text-align: left;\n",
       "    }\n",
       "\n",
       "    .dataframe tbody tr th {\n",
       "        vertical-align: top;\n",
       "    }\n",
       "</style>\n",
       "<table border=\"1\" class=\"dataframe\">\n",
       "  <thead>\n",
       "    <tr style=\"text-align: right;\">\n",
       "      <th></th>\n",
       "      <th></th>\n",
       "      <th>overall_rating</th>\n",
       "      <th>eval_date</th>\n",
       "      <th>birthday</th>\n",
       "      <th>birth_year</th>\n",
       "      <th>age_at_eval</th>\n",
       "    </tr>\n",
       "    <tr>\n",
       "      <th>id</th>\n",
       "      <th>eval_date</th>\n",
       "      <th></th>\n",
       "      <th></th>\n",
       "      <th></th>\n",
       "      <th></th>\n",
       "      <th></th>\n",
       "    </tr>\n",
       "  </thead>\n",
       "  <tbody>\n",
       "    <tr>\n",
       "      <th>27</th>\n",
       "      <th>2007-02-22</th>\n",
       "      <td>87.0</td>\n",
       "      <td>2007-02-22</td>\n",
       "      <td>1981-11-08</td>\n",
       "      <td>1981</td>\n",
       "      <td>25.290047</td>\n",
       "    </tr>\n",
       "  </tbody>\n",
       "</table>\n",
       "</div>"
      ],
      "text/plain": [
       "               overall_rating  eval_date   birthday  birth_year  age_at_eval\n",
       "id eval_date                                                                \n",
       "27 2007-02-22            87.0 2007-02-22 1981-11-08        1981    25.290047"
      ]
     },
     "execution_count": 18,
     "metadata": {},
     "output_type": "execute_result"
    }
   ],
   "source": [
    "# once the format is timedelta (with days) we need to converte it into years\n",
    "# divide number of days by 1 year (365 day) return float results \n",
    "# using np.timedelta64(1, 'Y') as 1 year\n",
    "q1_df['age_at_eval'] = q1_df['age_at_eval'] / np.timedelta64(1, 'Y')\n",
    "\n",
    "# check age at eval data type\n",
    "q1_df.age_at_eval.dtypes\n",
    "q1_df.head(1)"
   ]
  },
  {
   "cell_type": "code",
   "execution_count": 19,
   "metadata": {},
   "outputs": [],
   "source": [
    "# create bins & label name to be used in cutting birth year column\n",
    "\n",
    "# set the in and medium and max values\n",
    "bins = [q1_df.age_at_eval.min()-1 , 23 , 28 , q1_df.age_at_eval.max()]\n",
    "labels_list=[ 'under_23' , '23_28' ,'above_28' ] # groups name\n",
    "\n",
    "# cut age at eval column into 3 mentioned group\n",
    "q1_df['age_group'] = pd.cut(q1_df['age_at_eval'] , bins , labels = labels_list)\n"
   ]
  },
  {
   "cell_type": "code",
   "execution_count": 20,
   "metadata": {},
   "outputs": [],
   "source": [
    "# create column to be used in ranking evalution\n",
    "q1_df['ranking'] = q1_df['overall_rating']\n",
    "\n",
    "# useing different method other than pd.cut\n",
    "# create list with rankng score for each player during his evalutaion with \"for\" loop\n",
    "# for every row in index of ranking column, divide the cell by avergae rate of selected id\n",
    "score_list= [q1_df.overall_rating[(index, row)]/q1_df.overall_rating[index].mean() for index, row in q1_df.ranking.index]\n",
    "\n",
    "# add the list as rank_score column to datafram using pd.Series with same overall rating index\n",
    "q1_df['rank_score'] = pd.Series(score_list, index= q1_df.overall_rating.index)"
   ]
  },
  {
   "cell_type": "markdown",
   "metadata": {},
   "source": [
    "**IMP note: pandas cutting is much faster than 'for loop' in dealing with large dataframe**"
   ]
  },
  {
   "cell_type": "code",
   "execution_count": 21,
   "metadata": {},
   "outputs": [
    {
     "data": {
      "text/html": [
       "<div>\n",
       "<style>\n",
       "    .dataframe thead tr:only-child th {\n",
       "        text-align: right;\n",
       "    }\n",
       "\n",
       "    .dataframe thead th {\n",
       "        text-align: left;\n",
       "    }\n",
       "\n",
       "    .dataframe tbody tr th {\n",
       "        vertical-align: top;\n",
       "    }\n",
       "</style>\n",
       "<table border=\"1\" class=\"dataframe\">\n",
       "  <thead>\n",
       "    <tr style=\"text-align: right;\">\n",
       "      <th></th>\n",
       "      <th></th>\n",
       "      <th>overall_rating</th>\n",
       "      <th>eval_date</th>\n",
       "      <th>birthday</th>\n",
       "      <th>birth_year</th>\n",
       "      <th>age_at_eval</th>\n",
       "      <th>age_group</th>\n",
       "      <th>ranking</th>\n",
       "      <th>rank_score</th>\n",
       "    </tr>\n",
       "    <tr>\n",
       "      <th>id</th>\n",
       "      <th>eval_date</th>\n",
       "      <th></th>\n",
       "      <th></th>\n",
       "      <th></th>\n",
       "      <th></th>\n",
       "      <th></th>\n",
       "      <th></th>\n",
       "      <th></th>\n",
       "      <th></th>\n",
       "    </tr>\n",
       "  </thead>\n",
       "  <tbody>\n",
       "    <tr>\n",
       "      <th rowspan=\"7\" valign=\"top\">27</th>\n",
       "      <th>2007-02-22</th>\n",
       "      <td>87.0</td>\n",
       "      <td>2007-02-22</td>\n",
       "      <td>1981-11-08</td>\n",
       "      <td>1981</td>\n",
       "      <td>25.290047</td>\n",
       "      <td>23_28</td>\n",
       "      <td>best</td>\n",
       "      <td>1.121375</td>\n",
       "    </tr>\n",
       "    <tr>\n",
       "      <th>2007-08-30</th>\n",
       "      <td>86.0</td>\n",
       "      <td>2007-08-30</td>\n",
       "      <td>1981-11-08</td>\n",
       "      <td>1981</td>\n",
       "      <td>25.807511</td>\n",
       "      <td>23_28</td>\n",
       "      <td>best</td>\n",
       "      <td>1.108485</td>\n",
       "    </tr>\n",
       "    <tr>\n",
       "      <th>2008-08-30</th>\n",
       "      <td>84.0</td>\n",
       "      <td>2008-08-30</td>\n",
       "      <td>1981-11-08</td>\n",
       "      <td>1981</td>\n",
       "      <td>26.809585</td>\n",
       "      <td>23_28</td>\n",
       "      <td>best</td>\n",
       "      <td>1.082707</td>\n",
       "    </tr>\n",
       "    <tr>\n",
       "      <th>2009-02-22</th>\n",
       "      <td>83.0</td>\n",
       "      <td>2009-02-22</td>\n",
       "      <td>1981-11-08</td>\n",
       "      <td>1981</td>\n",
       "      <td>27.291457</td>\n",
       "      <td>23_28</td>\n",
       "      <td>best</td>\n",
       "      <td>1.069817</td>\n",
       "    </tr>\n",
       "    <tr>\n",
       "      <th>2009-08-30</th>\n",
       "      <td>83.0</td>\n",
       "      <td>2009-08-30</td>\n",
       "      <td>1981-11-08</td>\n",
       "      <td>1981</td>\n",
       "      <td>27.808921</td>\n",
       "      <td>23_28</td>\n",
       "      <td>best</td>\n",
       "      <td>1.069817</td>\n",
       "    </tr>\n",
       "    <tr>\n",
       "      <th>2010-08-30</th>\n",
       "      <td>80.0</td>\n",
       "      <td>2010-08-30</td>\n",
       "      <td>1981-11-08</td>\n",
       "      <td>1981</td>\n",
       "      <td>28.808258</td>\n",
       "      <td>above_28</td>\n",
       "      <td>better</td>\n",
       "      <td>1.031149</td>\n",
       "    </tr>\n",
       "    <tr>\n",
       "      <th>2011-02-22</th>\n",
       "      <td>79.0</td>\n",
       "      <td>2011-02-22</td>\n",
       "      <td>1981-11-08</td>\n",
       "      <td>1981</td>\n",
       "      <td>29.290129</td>\n",
       "      <td>above_28</td>\n",
       "      <td>better</td>\n",
       "      <td>1.018260</td>\n",
       "    </tr>\n",
       "  </tbody>\n",
       "</table>\n",
       "</div>"
      ],
      "text/plain": [
       "               overall_rating  eval_date   birthday  birth_year  age_at_eval  \\\n",
       "id eval_date                                                                   \n",
       "27 2007-02-22            87.0 2007-02-22 1981-11-08        1981    25.290047   \n",
       "   2007-08-30            86.0 2007-08-30 1981-11-08        1981    25.807511   \n",
       "   2008-08-30            84.0 2008-08-30 1981-11-08        1981    26.809585   \n",
       "   2009-02-22            83.0 2009-02-22 1981-11-08        1981    27.291457   \n",
       "   2009-08-30            83.0 2009-08-30 1981-11-08        1981    27.808921   \n",
       "   2010-08-30            80.0 2010-08-30 1981-11-08        1981    28.808258   \n",
       "   2011-02-22            79.0 2011-02-22 1981-11-08        1981    29.290129   \n",
       "\n",
       "              age_group ranking  rank_score  \n",
       "id eval_date                                 \n",
       "27 2007-02-22     23_28    best    1.121375  \n",
       "   2007-08-30     23_28    best    1.108485  \n",
       "   2008-08-30     23_28    best    1.082707  \n",
       "   2009-02-22     23_28    best    1.069817  \n",
       "   2009-08-30     23_28    best    1.069817  \n",
       "   2010-08-30  above_28  better    1.031149  \n",
       "   2011-02-22  above_28  better    1.018260  "
      ]
     },
     "execution_count": 21,
     "metadata": {},
     "output_type": "execute_result"
    }
   ],
   "source": [
    "# assign rank rate description to score\n",
    "# score above 1.04 (104%) 'best', under 0.97 (97%) 'normal', else is 'better'\n",
    "q1_df.loc[q1_df.rank_score > 1.04, 'ranking'] = 'best'\n",
    "q1_df.loc[q1_df.rank_score < 0.97, 'ranking'] = 'normal'\n",
    "q1_df.loc[(0.97 <= q1_df.rank_score) & (q1_df.rank_score <= 1.04) , 'ranking'] = 'better'\n",
    "\n",
    "q1_df.head(7) # check results"
   ]
  },
  {
   "cell_type": "code",
   "execution_count": 22,
   "metadata": {
    "scrolled": true
   },
   "outputs": [],
   "source": [
    "# drop the extra evaluation date column\n",
    "# 2 column with the same name (1 as index and other as column)\n",
    "q1_df.drop(labels = ['eval_date'], axis=1, inplace = True)\n",
    "\n",
    "# reset the index to normal\n",
    "q1_df.reset_index(inplace = True)\n"
   ]
  },
  {
   "cell_type": "code",
   "execution_count": 23,
   "metadata": {},
   "outputs": [
    {
     "data": {
      "text/plain": [
       "Text(0,0.5,'count')"
      ]
     },
     "execution_count": 23,
     "metadata": {},
     "output_type": "execute_result"
    },
    {
     "data": {
      "image/png": "[encoded data removed]",
      "text/plain": [
       "<matplotlib.figure.Figure at 0x7f7c700b1278>"
      ]
     },
     "metadata": {
      "needs_background": "light"
     },
     "output_type": "display_data"
    }
   ],
   "source": [
    "# explore overall rating histogram\n",
    "\n",
    "plt.hist(q1_df.overall_rating) # selecting data\n",
    "plt.title('overall rating distribution') # assign title\n",
    "plt.xlabel('overall rating') # set x label name\n",
    "plt.ylabel('count') # set y label name"
   ]
  },
  {
   "cell_type": "markdown",
   "metadata": {},
   "source": [
    "**looking at overall rating histogram, find the distribution is skewed left with highest distribution between 70 and 75**"
   ]
  },
  {
   "cell_type": "code",
   "execution_count": 24,
   "metadata": {},
   "outputs": [
    {
     "name": "stdout",
     "output_type": "stream",
     "text": [
      "Average player age at evaluation dates:  25.6302549841\n"
     ]
    },
    {
     "data": {
      "image/png": "[encoded data removed]",
      "text/plain": [
       "<matplotlib.figure.Figure at 0x7f7c49dbf358>"
      ]
     },
     "metadata": {
      "needs_background": "light"
     },
     "output_type": "display_data"
    }
   ],
   "source": [
    "# explore age histogram\n",
    "\n",
    "plt.hist(q1_df.age_at_eval)\n",
    "plt.title('Distribution of evaluations as per age')\n",
    "plt.xlabel('Player Age')\n",
    "plt.ylabel('count of evaluations')\n",
    "\n",
    "print('Average player age at evaluation dates: ', q1_df.age_at_eval.mean())"
   ]
  },
  {
   "cell_type": "markdown",
   "metadata": {},
   "source": [
    "**Almost symmetric distributions, i find that most of the evaluations made for players around age 25**"
   ]
  },
  {
   "cell_type": "code",
   "execution_count": 25,
   "metadata": {},
   "outputs": [
    {
     "data": {
      "text/plain": [
       "Text(0,0.5,'count of evaluations')"
      ]
     },
     "execution_count": 25,
     "metadata": {},
     "output_type": "execute_result"
    },
    {
     "data": {
      "image/png": "[encoded data removed]",
      "text/plain": [
       "<matplotlib.figure.Figure at 0x7f7c49c1aa90>"
      ]
     },
     "metadata": {
      "needs_background": "light"
     },
     "output_type": "display_data"
    }
   ],
   "source": [
    "# explore distribution of age_group\n",
    "\n",
    "# group by data frame by age_group and set values count to be plotted\n",
    "q1_df.age_group.value_counts().plot(title = 'Age at evalation grouped by count', legend= 'age_group')\n",
    "plt.xlabel('Age group')\n",
    "plt.ylabel('count of evaluations')\n"
   ]
  },
  {
   "cell_type": "markdown",
   "metadata": {},
   "source": [
    "**age group line plot show clearly the gap of evaluations between age between 23 & 28 and age under 23 or above 28**\n",
    "- more than 15000 evaluation located between age 23 and 28, while allocated slightly above 9000 for under 23 and above 28 each."
   ]
  },
  {
   "cell_type": "code",
   "execution_count": 26,
   "metadata": {},
   "outputs": [
    {
     "data": {
      "text/plain": [
       "Text(0,0.5,'evaluations')"
      ]
     },
     "execution_count": 26,
     "metadata": {},
     "output_type": "execute_result"
    },
    {
     "data": {
      "image/png": "[encoded data removed]",
      "text/plain": [
       "<matplotlib.figure.Figure at 0x7f7c49d8dc18>"
      ]
     },
     "metadata": {
      "needs_background": "light"
     },
     "output_type": "display_data"
    }
   ],
   "source": [
    "# which age group has the best player's ranking\n",
    "\n",
    "plt.subplots(figsize = (10 ,5)) # set the layout size\n",
    "\n",
    "# group both age_group and ranking togather for plotting\n",
    "q1_df.groupby(['age_group','ranking']).size().plot(kind = 'bar', width = 0.6)\n",
    "plt.title('Players ranking at 3 range of age')\n",
    "plt.xlabel('3 Ranking for each age group')\n",
    "plt.ylabel('evaluations')\n"
   ]
  },
  {
   "cell_type": "markdown",
   "metadata": {},
   "source": [
    "### Challenges and limitations thourgh question 1: \n",
    "\n",
    "- Data is incomplete as players position were not included and i had been forced to use only high attacking rate players to select the attackers, also count of evaluation varies for each player.\n",
    "- Using different method other than 'pandas cut' to rank players score into (best, better, normal) was harder than what i expected, it takes long time from me to pass this issue by using 'for loop' because in big dataset it could be very challenging to succeed.\n",
    "\n",
    "<a id='conclusion_Q1'></a>\n",
    "## Conclusion Q1\n",
    "\n",
    "First, its very important to mention that most of the evaluations made for the players at age 25 which is located in range between 23 & 28, which may affect the results regarding the count of evaluations.\n",
    "\n",
    "Second, I selected attackers for investigation by selected high attacking rate which means that some players are not strikers or forwards which leads that their attributes may be change according to their position.\n",
    "\n",
    "- Chart has been grouped by age order (under_23 , 23_28, above_28) then ranking performance (best, better, normal)\n",
    "- Considering my question regarding the best players improvement, it will be at age between 23 & 28, its very clear that 'best' bar at range between 23 & 28 is obvious higher than above 28 & under 23.\n",
    "- Regarding the players better improvement, also its obvious that players do a better improvement at age between 23 & 28 if its not their best.\n",
    "- At age under 23 most of the palyers are doing normal or better performance.\n",
    "\n",
    "Before exploring the data, I thought that the best improvment will be after 28 but it was wrong"
   ]
  },
  {
   "cell_type": "markdown",
   "metadata": {},
   "source": [
    "### Research Question 2 \n",
    "\n",
    "**What is the most important attribute that must be exist in the attackers overall rating among the famous skills like dribbling, sprint speed, vision, heading accuracy and shot power ?**\n",
    "\n",
    "- using dribbling, sprint speed, vision, heading accuracy and shot power columns along with overall rating.\n",
    "- use describe() to extract our data from each column from min to max."
   ]
  },
  {
   "cell_type": "code",
   "execution_count": 27,
   "metadata": {},
   "outputs": [
    {
     "data": {
      "text/plain": [
       "<matplotlib.legend.Legend at 0x7f7c49c3d320>"
      ]
     },
     "execution_count": 27,
     "metadata": {},
     "output_type": "execute_result"
    },
    {
     "data": {
      "image/png": "[encoded data removed]",
      "text/plain": [
       "<matplotlib.figure.Figure at 0x7f7c49c45198>"
      ]
     },
     "metadata": {
      "needs_background": "light"
     },
     "output_type": "display_data"
    }
   ],
   "source": [
    "# the most important attribute for the players\n",
    "\n",
    "# set index, locations, titles\n",
    "ind = np.arange(5)\n",
    "plt.subplots(figsize = (12 ,5)) # set the layout size\n",
    "plt.title('Best attacker attributes')\n",
    "plt.xlabel('Range of evaluation')\n",
    "plt.ylabel('Rating')\n",
    "width = 0.12  # for bar width\n",
    "\n",
    "# set label name just like the result of describe() min, 25%, 50%, 75%, max\n",
    "labels = cleaned_df.loc[:, 'overall_rating'].describe()['min':'max'].index\n",
    "locations = ind + width*5/2 # set location of label names\n",
    "plt.xticks(locations, labels) # set the location and label on the chart\n",
    "\n",
    "# set bars data by selecting column of each bar\n",
    "# and create list from discribe() that shows descriptive statistics at min, 25%, 50%, 75%, max\n",
    "dribbling = cleaned_df.loc[:, 'dribbling'].describe()['min':'max'].values\n",
    "speed = cleaned_df.loc[:, 'sprint_speed'].describe()['min':'max'].values\n",
    "vision = cleaned_df.loc[:, 'vision'].describe()['min':'max'].values\n",
    "heading = cleaned_df.loc[:, 'heading_accuracy'].describe()['min':'max'].values\n",
    "shot = cleaned_df.loc[:, 'shot_power'].describe()['min':'max'].values\n",
    "overall = cleaned_df.loc[:, 'overall_rating'].describe()['min':'max'].values\n",
    "\n",
    "# create the bars and assign different color to each\n",
    "plt.bar(ind, dribbling, width, color = 'g')\n",
    "plt.bar(ind+width, speed, width, color = 'r')\n",
    "plt.bar(ind+width*2, vision, width,color = 'b')\n",
    "plt.bar(ind+width*3, heading, width,color = 'y')\n",
    "plt.bar(ind+width*4, shot, width,color = 'black')\n",
    "plt.bar(ind+width*5, overall, width ,color = 'grey')\n",
    "\n",
    "# set legends names\n",
    "plt.legend(('dribbling', 'speed', 'vision','heading_accuracy','overall'))"
   ]
  },
  {
   "cell_type": "markdown",
   "metadata": {},
   "source": [
    "**For the selected attributes: sprint speed(red bar) shows the highest rating among other attribute**"
   ]
  },
  {
   "cell_type": "code",
   "execution_count": 28,
   "metadata": {},
   "outputs": [
    {
     "data": {
      "text/plain": [
       "<matplotlib.axes._subplots.AxesSubplot at 0x7f7c49c096d8>"
      ]
     },
     "execution_count": 28,
     "metadata": {},
     "output_type": "execute_result"
    },
    {
     "data": {
      "image/png": "[encoded data removed]",
      "text/plain": [
       "<matplotlib.figure.Figure at 0x7f7c49c56cf8>"
      ]
     },
     "metadata": {
      "needs_background": "light"
     },
     "output_type": "display_data"
    }
   ],
   "source": [
    "# sactter plot the correlation between sprint speed and overall rating\n",
    "cleaned_df.plot(x= 'overall_rating' , y= 'sprint_speed' , kind = 'scatter', title = 'Correlation between sprint speed and overall rating')"
   ]
  },
  {
   "cell_type": "markdown",
   "metadata": {},
   "source": [
    "**Postive correlation between sprint speed and overall rating but shows high overall rate for some players with medium speed rate and vice versa**"
   ]
  },
  {
   "cell_type": "code",
   "execution_count": 29,
   "metadata": {},
   "outputs": [
    {
     "data": {
      "text/plain": [
       "Text(0,0.5,'count of evaluations')"
      ]
     },
     "execution_count": 29,
     "metadata": {},
     "output_type": "execute_result"
    },
    {
     "data": {
      "image/png": "[encoded data removed]",
      "text/plain": [
       "<matplotlib.figure.Figure at 0x7f7c49c3d470>"
      ]
     },
     "metadata": {
      "needs_background": "light"
     },
     "output_type": "display_data"
    }
   ],
   "source": [
    "# explore distribution of sprint speed\n",
    "\n",
    "cleaned_df.sprint_speed.plot(kind= 'hist',title = 'Distribution of sprint speed', legend= 'sprint_speed')\n",
    "plt.xlabel('Speed rating')\n",
    "plt.ylabel('count of evaluations')"
   ]
  },
  {
   "cell_type": "markdown",
   "metadata": {},
   "source": [
    "**Above chart shows the important of sprint speed for attackers, the distribution skewed left with long left tail and highest distribution rate located between 80 and 85**"
   ]
  },
  {
   "cell_type": "markdown",
   "metadata": {},
   "source": [
    "### Challenges and limitations thourgh question 1: \n",
    "\n",
    "- Trying to find most attributes related to strikers takes long time to explore about each of very large list of attributes (as per my opinion)\n",
    "\n",
    "<a id='conclusion_Q2'></a>\n",
    "## Conclusion Q2\n",
    "\n",
    "Only 4 attributes have been selected as the most popular attributes, other attributes related to each one of selected may change the results, such ball control, finishing and volleys amy be realted to dribbling and acceleration, stamina and strength  may related to sprint speed.\n",
    "\n",
    "- Considering question2, the above bar chart show that the sprint speed is the most common attribute that all attackers need.\n",
    "- Sprint speed exceeded the overall rating at evaluation except the minimum player's performance.\n",
    "- At max bars, we can see that most of attributes are close to its others, because its the best player's performance that could reach a 100%.\n",
    "- Below the max performance, we can see that the heading accuracy is the lowest attribute that players have.\n"
   ]
  },
  {
   "cell_type": "code",
   "execution_count": 30,
   "metadata": {},
   "outputs": [
    {
     "data": {
      "text/plain": [
       "0"
      ]
     },
     "execution_count": 30,
     "metadata": {},
     "output_type": "execute_result"
    }
   ],
   "source": [
    "from subprocess import call\n",
    "call(['python', '-m', 'nbconvert', 'Investigate_a_Dataset.ipynb'])"
   ]
  }
 ],
 "metadata": {
  "kernelspec": {
   "display_name": "Python 3",
   "language": "python",
   "name": "python3"
  },
  "language_info": {
   "codemirror_mode": {
    "name": "ipython",
    "version": 3
   },
   "file_extension": ".py",
   "mimetype": "text/x-python",
   "name": "python",
   "nbconvert_exporter": "python",
   "pygments_lexer": "ipython3",
   "version": "3.6.3"
  }
 },
 "nbformat": 4,
 "nbformat_minor": 2
}
