{
 "cells": [
  {
   "cell_type": "code",
   "execution_count": 1,
   "metadata": {},
   "outputs": [],
   "source": [
    "import wptools"
   ]
  },
  {
   "cell_type": "code",
   "execution_count": 2,
   "metadata": {},
   "outputs": [
    {
     "name": "stderr",
     "output_type": "stream",
     "text": [
      "en.wikipedia.org (query) E.T._the_Extra-Terrestrial\n",
      "API warning: {'extracts': {'warnings': 'HTML may be malformed and/or unbalanced and may omit inline images. Use at your own risk. Known problems are listed at https://www.mediawiki.org/wiki/Extension:TextExtracts#Caveats.'}}\n",
      "en.wikipedia.org (parse) 73441\n",
      "www.wikidata.org (wikidata) Q11621\n",
      "www.wikidata.org (labels) Q849124|P1981|Q1748409|Q6860813|Q237207...\n",
      "www.wikidata.org (labels) P3302|P3593|P1712|P3138|P3110|Q21037379...\n",
      "www.wikidata.org (labels) P86|P31|P840|Q435696|P2334|Q24909800|Q7...\n",
      "www.wikidata.org (labels) P268|P2704|Q3897561|Q230390|P2465|Q7341...\n",
      "en.wikipedia.org (restbase) /page/summary/E.T._the_Extra-Terrestrial\n",
      "en.wikipedia.org (imageinfo) File:ET logo 3.svg|File:E t the extr...\n",
      "E.T. the Extra-Terrestrial (en) data\n",
      "{\n",
      "  aliases: <list(2)> E.T., ET\n",
      "  claims: <dict(92)> P1562, P57, P272, P345, P31, P161, P373, P480...\n",
      "  description: <str(63)> 1982 American science fiction film direct...\n",
      "  exhtml: <str(569)> <p><i><b>E.T. the Extra-Terrestrial</b></i> i...\n",
      "  exrest: <str(548)> E.T. the Extra-Terrestrial is a 1982 American...\n",
      "  extext: <str(1784)> _**E.T. the Extra-Terrestrial**_ is a 1982 A...\n",
      "  extract: <str(1901)> <p class=\"mw-empty-elt\"></p><p><i><b>E.T. t...\n",
      "  image: <list(4)> {'kind': 'parse-image', 'file': 'File:E t the e...\n",
      "  infobox: <dict(19)> name, image, alt, caption, director, produce...\n",
      "  iwlinks: <list(5)> https://commons.wikimedia.org/wiki/Category:E...\n",
      "  label: E.T. the Extra-Terrestrial\n",
      "  labels: <dict(171)> Q849124, P1981, Q1748409, Q6860813, Q237207,...\n",
      "  length: 79,978\n",
      "  links: <list(462)> 12 Monkeys, 12 Years a Slave (film), 1941 (fi...\n",
      "  modified: <dict(2)> page, wikidata\n",
      "  pageid: 73441\n",
      "  parsetree: <str(99897)> <root><template><title>Redirect</title><...\n",
      "  random: Maritime State University\n",
      "  redirects: <list(38)> {'pageid': 177061, 'ns': 0, 'title': 'E.T....\n",
      "  requests: <list(9)> query, parse, wikidata, labels, labels, labe...\n",
      "  title: E.T._the_Extra-Terrestrial\n",
      "  url: https://en.wikipedia.org/wiki/E.T._the_Extra-Terrestrial\n",
      "  url_raw: <str(67)> https://en.wikipedia.org/wiki/E.T._the_Extra-...\n",
      "  watchers: 286\n",
      "  what: film\n",
      "  wikibase: Q11621\n",
      "  wikidata: <dict(92)> AllMovie movie ID (P1562), director (P57), ...\n",
      "  wikidata_url: https://www.wikidata.org/wiki/Q11621\n",
      "  wikitext: <str(79677)> {{Redirect|E.T.|other uses|ET (disambigua...\n",
      "}\n"
     ]
    }
   ],
   "source": [
    "page = wptools.page('E.T._the_Extra-Terrestrial').get()"
   ]
  },
  {
   "cell_type": "markdown",
   "metadata": {},
   "source": [
    "## Quiz 1\n",
    "Access the first image in the images attribute, which is a JSON array."
   ]
  },
  {
   "cell_type": "code",
   "execution_count": 19,
   "metadata": {},
   "outputs": [
    {
     "data": {
      "text/plain": [
       "[{'kind': 'parse-image',\n",
       "  'file': 'File:E t the extra terrestrial ver3.jpg',\n",
       "  'orig': 'E t the extra terrestrial ver3.jpg',\n",
       "  'timestamp': '2016-06-04T10:30:46Z',\n",
       "  'size': 83073,\n",
       "  'width': 253,\n",
       "  'height': 394,\n",
       "  'url': 'https://upload.wikimedia.org/wikipedia/en/6/66/E_t_the_extra_terrestrial_ver3.jpg',\n",
       "  'descriptionurl': 'https://en.wikipedia.org/wiki/File:E_t_the_extra_terrestrial_ver3.jpg',\n",
       "  'descriptionshorturl': 'https://en.wikipedia.org/w/index.php?curid=7419503',\n",
       "  'title': 'File:E t the extra terrestrial ver3.jpg'},\n",
       " {'file': 'File:ET logo 3.svg',\n",
       "  'kind': 'wikidata-image',\n",
       "  'orig': 'ET logo 3.svg',\n",
       "  'timestamp': '2011-05-14T20:38:17Z',\n",
       "  'size': 77290,\n",
       "  'width': 512,\n",
       "  'height': 380,\n",
       "  'url': 'https://upload.wikimedia.org/wikipedia/commons/8/85/ET_logo_3.svg',\n",
       "  'descriptionurl': 'https://commons.wikimedia.org/wiki/File:ET_logo_3.svg',\n",
       "  'descriptionshorturl': 'https://commons.wikimedia.org/w/index.php?curid=14138952',\n",
       "  'title': 'File:ET logo 3.svg'},\n",
       " {'kind': 'restbase-original',\n",
       "  'width': 253,\n",
       "  'height': 394,\n",
       "  'url': 'https://upload.wikimedia.org/wikipedia/en/6/66/E_t_the_extra_terrestrial_ver3.jpg',\n",
       "  'file': 'File:E t the extra terrestrial ver3.jpg',\n",
       "  'orig': 'E_t_the_extra_terrestrial_ver3.jpg'},\n",
       " {'kind': 'restbase-thumb',\n",
       "  'width': 205,\n",
       "  'height': 320,\n",
       "  'url': 'https://upload.wikimedia.org/wikipedia/en/thumb/6/66/E_t_the_extra_terrestrial_ver3.jpg/205px-E_t_the_extra_terrestrial_ver3.jpg',\n",
       "  'file': 'File:205px-E t the extra terrestrial ver3.jpg',\n",
       "  'orig': '205px-E_t_the_extra_terrestrial_ver3.jpg'}]"
      ]
     },
     "execution_count": 19,
     "metadata": {},
     "output_type": "execute_result"
    }
   ],
   "source": [
    "# using func images() that display all\n",
    "page.images()"
   ]
  },
  {
   "cell_type": "code",
   "execution_count": 35,
   "metadata": {},
   "outputs": [
    {
     "data": {
      "text/plain": [
       "{'kind': 'parse-image',\n",
       " 'file': 'File:E t the extra terrestrial ver3.jpg',\n",
       " 'orig': 'E t the extra terrestrial ver3.jpg',\n",
       " 'timestamp': '2016-06-04T10:30:46Z',\n",
       " 'size': 83073,\n",
       " 'width': 253,\n",
       " 'height': 394,\n",
       " 'url': 'https://upload.wikimedia.org/wikipedia/en/6/66/E_t_the_extra_terrestrial_ver3.jpg',\n",
       " 'descriptionurl': 'https://en.wikipedia.org/wiki/File:E_t_the_extra_terrestrial_ver3.jpg',\n",
       " 'descriptionshorturl': 'https://en.wikipedia.org/w/index.php?curid=7419503',\n",
       " 'title': 'File:E t the extra terrestrial ver3.jpg'}"
      ]
     },
     "execution_count": 35,
     "metadata": {},
     "output_type": "execute_result"
    }
   ],
   "source": [
    "page.images('url')[0]\n",
    "# or \n",
    "page.data['image'][0]"
   ]
  },
  {
   "cell_type": "markdown",
   "metadata": {},
   "source": [
    "## Quiz 2\n",
    "Access the director key of the infobox attribute, which is a JSON object."
   ]
  },
  {
   "cell_type": "code",
   "execution_count": 45,
   "metadata": {},
   "outputs": [
    {
     "data": {
      "text/plain": [
       "'[[Steven Spielberg]]'"
      ]
     },
     "execution_count": 45,
     "metadata": {},
     "output_type": "execute_result"
    }
   ],
   "source": [
    "page.data['infobox']['director']"
   ]
  }
 ],
 "metadata": {
  "kernelspec": {
   "display_name": "Python 3",
   "language": "python",
   "name": "python3"
  },
  "language_info": {
   "codemirror_mode": {
    "name": "ipython",
    "version": 3
   },
   "file_extension": ".py",
   "mimetype": "text/x-python",
   "name": "python",
   "nbconvert_exporter": "python",
   "pygments_lexer": "ipython3",
   "version": "3.7.1rc2"
  }
 },
 "nbformat": 4,
 "nbformat_minor": 2
}
