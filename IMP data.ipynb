{
 "cells": [
  {
   "cell_type": "markdown",
   "metadata": {
    "slideshow": {
     "slide_type": "slide"
    }
   },
   "source": [
    "First\n",
    "=====\n",
    "\n",
    "Second\n",
    "------\n",
    "\n",
    "# Header 1\n",
    "## Header 2\n",
    "### Header 3\n",
    "\n",
    "[for more data](https://github.com/adam-p/markdown-here/wiki/Markdown-Cheatsheet) here **i'am** _just_ __looking__ around \n",
    "[list of magic words](https://ipython.readthedocs.io/en/stable/interactive/magics.html)\n",
    "$$\n",
    "y = \\frac{a}{b+c}\n",
    "$$\n",
    "> **Another test:** Click on this cell"
   ]
  },
  {
   "cell_type": "markdown",
   "metadata": {
    "slideshow": {
     "slide_type": "slide"
    }
   },
   "source": [
    "Jupyter:\n",
    "=======\n",
    "- jupyter nbconvert --to html notebook.ipynb   \\convert html to .ipynb [check doc](https://nbconvert.readthedocs.io/en/latest/usage.html)\n",
    "- jupyter nbconvert notebook.ipynb --to slides \\convert and immediately see jupyter nbconvert notebook.ipynb --to slides --post serve\n"
   ]
  },
  {
   "cell_type": "markdown",
   "metadata": {
    "slideshow": {
     "slide_type": "slide"
    }
   },
   "source": [
    "**Conda** :\n",
    "\n",
    "- conda upgrade conda\n",
    "- conda upgrade --all\n",
    "- conda create –n project_name python=3\n",
    "- conda create -n env_name list of packages \\ex: conda create -n data python=3.6 numpy pandas\n",
    "- conda env export > environment.yaml\n",
    "- conda env create -f environment.yaml\n",
    "- conda env remove -n env_name\n",
    "- activate project_name \\deactivate\n",
    "- conda env list\n",
    "- conda install numby panda matplotlib\n",
    "- conda install jupyter notebook\n",
    "- conda remove package_name=1.0.2 \n",
    "- conda update package_name\n",
    "- conda update –all\n",
    "- conda list\n",
    "- conda search *search_term*\n"
   ]
  },
  {
   "cell_type": "markdown",
   "metadata": {
    "slideshow": {
     "slide_type": "slide"
    }
   },
   "source": [
    "Panda:\n",
    "======\n",
    "\n",
    "[Check](http://nbviewer.jupyter.org/format/slides/github/jorisvandenbossche/2015-PyDataParis/blob/master/pandas_introduction.ipynb#/)"
   ]
  },
  {
   "cell_type": "code",
   "execution_count": null,
   "metadata": {},
   "outputs": [],
   "source": []
  },
  {
   "cell_type": "code",
   "execution_count": null,
   "metadata": {},
   "outputs": [],
   "source": []
  }
 ],
 "metadata": {
  "celltoolbar": "Slideshow",
  "kernelspec": {
   "display_name": "Python [default]",
   "language": "python",
   "name": "python3"
  },
  "language_info": {
   "codemirror_mode": {
    "name": "ipython",
    "version": 3
   },
   "file_extension": ".py",
   "mimetype": "text/x-python",
   "name": "python",
   "nbconvert_exporter": "python",
   "pygments_lexer": "ipython3",
   "version": "3.7.0"
  }
 },
 "nbformat": 4,
 "nbformat_minor": 2
}
