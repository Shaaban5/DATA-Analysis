{
 "cells": [
  {
   "cell_type": "markdown",
   "metadata": {},
   "source": [
    "# Wrangle report\n",
    "**By: Ahmed Shaaban**\n",
    "\n",
    "This report aim to present my efforts during the wrangle action (Gathering, Assessing and Cleaning) for twitter-archive collected from [@WeRateDogs](https://twitter.com/dog_rates) twitter account that rates people's dogs with a humorous comment about the dog. It was started in 2015 by college student Matt Nelson.\n",
    "\n",
    "## First: Gathering\n",
    "\n",
    "The provided twitter-archive file is not clean and missing many data, so I have gathered all my data on 3 steps.\n",
    "\n",
    "1.\tI downloaded ‘twitter-archive-enhanced.csv’ file manually and then uploaded it into my work session in Udacity\n",
    "2.\tUsing url provided by Udacity to download ‘image-predictions.tsv’ programmatically  and save it into my work session (https://d17h27t6h515a5.cloudfront.net/topher/2017/August/599fd2ad_image-predictions/image-predictions.tsv)\n",
    "3.\tUse twitter APIs to query data by twitterID from twitter_archive (the hardest step)\n",
    "\n",
    "I tried to create my twitter API account but I was rejected but I tried one more time and I created new twitter account and re-submited my request and I got the approval (I think because wrote more details in my second request and I mentioned how much I appreciate twitter’s support and encouraging)\n",
    "As per project details I saved the output from Twitter API to json file then I read it line by line and saved my extracted data to ‘tweetdata_api.csv’\n",
    "\n",
    "## Second: Assessing\n",
    "\n",
    "1.\tQuality issues: \n",
    "\n",
    "    -\ttwitter_archive was my basic dataframe, so I opened it manually with excel  for quick review and found that text column contains text and url.\n",
    "    -\t5 column in twitter_archive were almost null columns.\n",
    "    -\tSource column was not well presenting and to be shorter.\n",
    "    -\tWith codes, I found no duplicated row and found that rating_numerator column have extreme high values (25 values).\n",
    "    -\tSame to rating_denominator column have values below and above 10 (23 values).\n",
    "    -\tDogs name column have wrong values such as (a, an, the) and all with lower case.\n",
    "    -\tIn image_predictions I found that jpg_url have some urls that does not open with my browser and all that contain  'ext_tw_video_thumb'  in the url.\n",
    "    -\tDuplicated created_at column in tweetdata_api with timestamp column in twitter_archive.\n",
    "\n",
    "\n",
    "2.\tTidy issues:\n",
    "\n",
    "    -\tDate was distributed between 3 datafarme.\n",
    "    -\tDogs breed were distributed between 4 column in twitter_archive.\n",
    "\n",
    "\n",
    "## Third: Cleaning\n",
    "\n",
    "-\tCreate 3 copies of our dataframes to be used in cleaning.\n",
    "-\tConvert timestamp column in tw_archive_clean to datetime format.\n",
    "-\tDrop columns that contains very view observations (in_reply_to_status_id, in_reply_to_user_id, retweeted_status_id, retweeted_status_user_id, retweeted_status_timestamp)\n",
    "-\tOnce the extreme numerator values only 25 I will drop it.\n",
    "-\tThe wrong values of dominator are 23, I will drop it.\n",
    "-\tSplit the text in text column and remove the url.\n",
    "-\tReplace the long description in source column to (Twitter for iPhone, vine.co, Twitter Web Client, TweetDeck)\n",
    "-\tChange the wrong dogs name (lower case) to null.\n",
    "-\tDrop the jpg_url that contain 'ext_tw_video_thumb' in the url as it is not working.\n",
    "-\tDrop created_at column from tweetdata_api.\n",
    "-\tMerge the 3 dataframes in 1 using tweet_id column.\n",
    "\n"
   ]
  }
 ],
 "metadata": {
  "kernelspec": {
   "display_name": "Python [default]",
   "language": "python",
   "name": "python3"
  },
  "language_info": {
   "codemirror_mode": {
    "name": "ipython",
    "version": 3
   },
   "file_extension": ".py",
   "mimetype": "text/x-python",
   "name": "python",
   "nbconvert_exporter": "python",
   "pygments_lexer": "ipython3",
   "version": "3.7.0"
  }
 },
 "nbformat": 4,
 "nbformat_minor": 2
}
