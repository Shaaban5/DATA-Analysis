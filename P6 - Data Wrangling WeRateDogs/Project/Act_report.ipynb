{
 "cells": [
  {
   "cell_type": "markdown",
   "metadata": {},
   "source": [
    "# Act report\n",
    "Reported by: Ahmed Shaaban\n",
    "\n",
    "## Analyzing, and Visualizing [@WeRateDogs](https://twitter.com/dog_rates)\n",
    "WeRateDogs is a Twitter account that rates people's dogs with a humorous comment about the dog.\n",
    "\n",
    "Analyzing the data extracted after data wrangling of 3 dataframes:\n",
    "1. ‘twitter-archive-enhanced.csv’ contains basics data (provided by Udacity).\n",
    "2. ‘image-predictions.tsv’ contains dogs breed and pictures (provided by Udacity).\n",
    "3. ‘tweetdata_api.csv’ using Twitter APIs to enquiry the retweet count and favorite count from twitter."
   ]
  },
  {
   "cell_type": "markdown",
   "metadata": {},
   "source": [
    "### Interaction with WeRateDogs twitter account over time:\n",
    "\n",
    "**1. Interaction with WeRateDogs twitter account from Nov 2015 to Aug 2017**\n",
    "\n",
    "Once the account has been launched in November 2015, WeRateDogs had greate start which had more than 700 post in the first 2 month and became very populare, the result is very clear according to below chart\n",
    "\n",
    "<img src=\"files/1.png\">\n",
    "\n",
    "We need to look for the most active months that have interaction with WeRateDogs twitter account but excluding 2015 as it has the biggest impact, and I found that January and February are the most active months during the year.\n",
    "    - I have to mention that the data collected up to August 2017, which mean we do not have enough data to be sure that our conclusion is 100% correct.\n",
    "    \n",
    "<img src=\"files/2.png\">\n",
    "\n",
    "One more thing we need to check is the interaction of likes and retweet with the account, and I it was Obvious that likes have been increased over time but retweets slightly increased (below chart ignored the outliers of likes).\n",
    "\n",
    "<img src=\"files/3.png\">"
   ]
  },
  {
   "cell_type": "markdown",
   "metadata": {},
   "source": [
    "**2. Relationship between Likes and Retweet**\n",
    "\n",
    "Visualizing the relationship between likes and retweet, found that it is a very strong positive relationship as per below chart.\n",
    "\n",
    "<img src=\"files/4.png\">\n"
   ]
  },
  {
   "cell_type": "markdown",
   "metadata": {},
   "source": [
    "**3. Analyzing most favorite dog breed and stage**\n",
    "\n",
    "Since dogs breed has a massive list and the dog breed column contains some wrong discribtions, I created data for dogs breed that have been repeated for more than 15 time and found that the top 5 dogs breed are Golden retriever, Labrador retriever, Pembroke, Chihuahua and Pug (Respectively).\n",
    "    - the new data contained wrong discripetion such as (seat_belt, web_site)\n",
    "\n",
    "<img src=\"files/5.png\">\n",
    "\n",
    "The same for dog stage, I found that Pupper dogs has the most occurrence in WeRateDogs twitter account (almost 200 time out of 300).\n",
    "\n",
    "<img src=\"files/6.png\">\n"
   ]
  },
  {
   "cell_type": "markdown",
   "metadata": {},
   "source": [
    "4. Analysing the rating system\n",
    "\n",
    "WeRateDogs has an unique rating system which is a big part of its popularity, where most of the rating above 100%, below chart will show the distribution of rating and found that most of the rating between 100% and 130%.\n",
    "\n",
    "<img src=\"files/7.png\">\n",
    "\n",
    "Relationship between rating and likes was expected to be strong positive relation and the below chart show that.\n",
    "\n",
    "<img src=\"files/8.png\">\n"
   ]
  }
 ],
 "metadata": {
  "kernelspec": {
   "display_name": "Python 3",
   "language": "python",
   "name": "python3"
  },
  "language_info": {
   "codemirror_mode": {
    "name": "ipython",
    "version": 3
   },
   "file_extension": ".py",
   "mimetype": "text/x-python",
   "name": "python",
   "nbconvert_exporter": "python",
   "pygments_lexer": "ipython3",
   "version": "3.7.1"
  }
 },
 "nbformat": 4,
 "nbformat_minor": 2
}
